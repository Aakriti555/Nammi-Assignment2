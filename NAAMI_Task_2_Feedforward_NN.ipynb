{
  "nbformat": 4,
  "nbformat_minor": 0,
  "metadata": {
    "colab": {
      "provenance": [],
      "include_colab_link": true
    },
    "kernelspec": {
      "name": "python3",
      "display_name": "Python 3"
    },
    "language_info": {
      "name": "python"
    }
  },
  "cells": [
    {
      "cell_type": "markdown",
      "metadata": {
        "id": "view-in-github",
        "colab_type": "text"
      },
      "source": [
        "<a href=\"https://colab.research.google.com/github/Aakriti555/Nammi-Assignment2/blob/main/NAAMI_Task_2_Feedforward_NN.ipynb\" target=\"_parent\"><img src=\"https://colab.research.google.com/assets/colab-badge.svg\" alt=\"Open In Colab\"/></a>"
      ]
    },
    {
      "cell_type": "code",
      "execution_count": null,
      "metadata": {
        "id": "Wi9AaixtfPm0"
      },
      "outputs": [],
      "source": [
        "import pandas as pd\n",
        "import numpy as np\n",
        "import torch\n",
        "import torch.nn as nn\n",
        "import torch.optim as optim\n",
        "from sklearn.model_selection import train_test_split, KFold\n",
        "from sklearn.model_selection import train_test_split\n",
        "from sklearn.preprocessing import StandardScaler\n",
        "from sklearn.metrics import (\n",
        "    accuracy_score, roc_auc_score, recall_score, f1_score, confusion_matrix\n",
        ")"
      ]
    },
    {
      "cell_type": "code",
      "source": [
        "import gdown\n",
        "gdown.download(url=\"https://drive.google.com/file/d/1Zsg7ZiTWcpvm9IZl72z0DnOiNFu4QgGo/view\", output=\"file.zip\", fuzzy=True)"
      ],
      "metadata": {
        "colab": {
          "base_uri": "https://localhost:8080/",
          "height": 105
        },
        "id": "DcFaHREpfWq7",
        "outputId": "b806c615-c2ef-4651-b2e0-5233bc0ea9d4"
      },
      "execution_count": null,
      "outputs": [
        {
          "output_type": "stream",
          "name": "stderr",
          "text": [
            "Downloading...\n",
            "From: https://drive.google.com/uc?id=1Zsg7ZiTWcpvm9IZl72z0DnOiNFu4QgGo\n",
            "To: /content/file.zip\n",
            "100%|██████████| 8.66M/8.66M [00:00<00:00, 43.8MB/s]\n"
          ]
        },
        {
          "output_type": "execute_result",
          "data": {
            "text/plain": [
              "'file.zip'"
            ],
            "application/vnd.google.colaboratory.intrinsic+json": {
              "type": "string"
            }
          },
          "metadata": {},
          "execution_count": 97
        }
      ]
    },
    {
      "cell_type": "code",
      "source": [
        "!unzip \"/content/file.zip\" -d \"/content\""
      ],
      "metadata": {
        "colab": {
          "base_uri": "https://localhost:8080/"
        },
        "id": "HSgC9uxSfZly",
        "outputId": "1b35e0c5-1c49-4840-e3b6-7d64eb7305c2"
      },
      "execution_count": null,
      "outputs": [
        {
          "output_type": "stream",
          "name": "stdout",
          "text": [
            "Archive:  /content/file.zip\n",
            "replace /content/TASK_2/blinded_test_set.csv? [y]es, [n]o, [A]ll, [N]one, [r]ename: A\n",
            "  inflating: /content/TASK_2/blinded_test_set.csv  \n",
            "  inflating: /content/__MACOSX/TASK_2/._blinded_test_set.csv  \n",
            "  inflating: /content/TASK_2/train_set.csv  \n",
            "  inflating: /content/__MACOSX/TASK_2/._train_set.csv  \n",
            "  inflating: /content/TASK_2/test_set.csv  \n",
            "  inflating: /content/__MACOSX/TASK_2/._test_set.csv  \n"
          ]
        }
      ]
    },
    {
      "cell_type": "code",
      "source": [
        "# Load the CSV files\n",
        "train_df = pd.read_csv(\"/content/TASK_2/train_set.csv\")\n",
        "test_df = pd.read_csv(\"/content/TASK_2/test_set.csv\")\n",
        "blinded_test_df = pd.read_csv(\"/content/TASK_2/blinded_test_set.csv\")"
      ],
      "metadata": {
        "id": "URe13nDsfif3"
      },
      "execution_count": null,
      "outputs": []
    },
    {
      "cell_type": "code",
      "source": [
        "# Drop rows with missing target\n",
        "train_df = train_df.dropna(subset=[\"CLASS\"])\n",
        "test_df = test_df.dropna(subset=[\"CLASS\"])"
      ],
      "metadata": {
        "id": "aQHrPfT9fa2S"
      },
      "execution_count": null,
      "outputs": []
    },
    {
      "cell_type": "code",
      "source": [
        "train_df.drop(columns=[\"ID\"], inplace=True)\n",
        "test_df.drop(columns=[\"ID\"], inplace=True)\n",
        "blinded_test_df.drop(columns=[\"ID\"], inplace=True)"
      ],
      "metadata": {
        "id": "PkEdfQ5afpS6"
      },
      "execution_count": null,
      "outputs": []
    },
    {
      "cell_type": "code",
      "source": [
        "# Remove rows with nan\n",
        "\n",
        "train_df.replace([np.inf, -np.inf], np.nan, inplace=True)\n",
        "train_df.dropna(inplace=True)\n",
        "test_df.replace([np.inf, -np.inf], np.nan, inplace=True)\n",
        "test_df.dropna(inplace=True)"
      ],
      "metadata": {
        "id": "zcXFEjpgfrd7"
      },
      "execution_count": null,
      "outputs": []
    },
    {
      "cell_type": "code",
      "source": [
        "# Separate features and labels\n",
        "X_train = train_df.drop(\"CLASS\", axis=1)\n",
        "y_train = train_df[\"CLASS\"]\n",
        "\n",
        "X_test = test_df.drop(\"CLASS\", axis=1)\n",
        "y_test = test_df[\"CLASS\"]"
      ],
      "metadata": {
        "id": "fJYsLJm8f0Xy"
      },
      "execution_count": null,
      "outputs": []
    },
    {
      "cell_type": "code",
      "source": [
        "# Align columns (in case of mismatched one-hot encodings)\n",
        "X_train, X_test = X_train.align(X_test, join=\"left\", axis=1, fill_value=0)\n"
      ],
      "metadata": {
        "id": "gKkFNikbf3Rs"
      },
      "execution_count": null,
      "outputs": []
    },
    {
      "cell_type": "code",
      "source": [
        "# Standardize features\n",
        "scaler = StandardScaler()\n",
        "X_train = scaler.fit_transform(X_train)\n",
        "X_test = scaler.transform(X_test)"
      ],
      "metadata": {
        "id": "e-vQW5oWf5t2"
      },
      "execution_count": null,
      "outputs": []
    },
    {
      "cell_type": "code",
      "source": [
        "# Convert to PyTorch tensors\n",
        "X_train_tensor = torch.tensor(X_train, dtype=torch.float32)\n",
        "y_train_tensor = torch.tensor(y_train.values, dtype=torch.float32).unsqueeze(1)"
      ],
      "metadata": {
        "id": "-_rK4zaCf7ly"
      },
      "execution_count": null,
      "outputs": []
    },
    {
      "cell_type": "code",
      "source": [
        "X_test_tensor = torch.tensor(X_test, dtype=torch.float32)\n",
        "y_test_tensor = torch.tensor(y_test.values, dtype=torch.float32).unsqueeze(1)"
      ],
      "metadata": {
        "id": "vAq64EXTf-5B"
      },
      "execution_count": null,
      "outputs": []
    },
    {
      "cell_type": "code",
      "source": [
        "# Define Neural Network\n",
        "\n",
        "\n",
        "class FeedforwardNN(nn.Module):\n",
        "    def __init__(self, input_dim):\n",
        "        super().__init__()\n",
        "        self.net = nn.Sequential(\n",
        "            nn.Linear(input_dim, 64),\n",
        "            nn.ReLU(),\n",
        "            nn.Linear(64, 32),\n",
        "            nn.ReLU(),\n",
        "            nn.Linear(32, 1),\n",
        "            nn.Sigmoid()  # for binary classification\n",
        "        )\n",
        "\n",
        "    def forward(self, x):\n",
        "        return self.net(x)\n",
        "\n",
        "model = FeedforwardNN(X_train_tensor.shape[1])"
      ],
      "metadata": {
        "id": "I3gioiTzf9YJ"
      },
      "execution_count": null,
      "outputs": []
    },
    {
      "cell_type": "code",
      "source": [],
      "metadata": {
        "id": "2A7zuvnvDySi"
      },
      "execution_count": null,
      "outputs": []
    },
    {
      "cell_type": "code",
      "source": [
        "# Cross-validation setup\n",
        "n_folds = 3\n",
        "kf = KFold(n_splits=n_folds, shuffle=True, random_state=42)"
      ],
      "metadata": {
        "id": "13aTrphSDdvL"
      },
      "execution_count": null,
      "outputs": []
    },
    {
      "cell_type": "code",
      "source": [
        "# Store predictions from each fold\n",
        "cv_predictions_test = []\n",
        "cv_predictions_blinded = []\n",
        "cv_metrics = []"
      ],
      "metadata": {
        "id": "bD5OTV7hDgvN"
      },
      "execution_count": null,
      "outputs": []
    },
    {
      "cell_type": "code",
      "source": [
        "# Train the model\n",
        "\n",
        "criterion = nn.BCELoss()  # Binary Cross-Entropy\n",
        "optimizer = optim.Adam(model.parameters(), lr=0.001)\n",
        "epochs = 100\n",
        "\n",
        "for epoch in range(epochs):\n",
        "    model.train()\n",
        "    optimizer.zero_grad()\n",
        "    output = model(X_train_tensor)\n",
        "    loss = criterion(output, y_train_tensor)\n",
        "    loss.backward()\n",
        "    optimizer.step()\n",
        "\n",
        "    if (epoch+1) % 10 == 0:\n",
        "        print(f\"Epoch {epoch+1}/{epochs}, Loss: {loss.item():.4f}\")\n"
      ],
      "metadata": {
        "colab": {
          "base_uri": "https://localhost:8080/"
        },
        "id": "slCUkd3xgEWN",
        "outputId": "d3c7027f-02a7-4be8-8f71-58112986c9d5"
      },
      "execution_count": null,
      "outputs": [
        {
          "output_type": "stream",
          "name": "stdout",
          "text": [
            "Epoch 10/100, Loss: 0.4216\n",
            "Epoch 20/100, Loss: 0.2131\n",
            "Epoch 30/100, Loss: 0.0728\n",
            "Epoch 40/100, Loss: 0.0179\n",
            "Epoch 50/100, Loss: 0.0051\n",
            "Epoch 60/100, Loss: 0.0022\n",
            "Epoch 70/100, Loss: 0.0013\n",
            "Epoch 80/100, Loss: 0.0010\n",
            "Epoch 90/100, Loss: 0.0008\n",
            "Epoch 100/100, Loss: 0.0007\n"
          ]
        }
      ]
    },
    {
      "cell_type": "code",
      "source": [
        "model.eval()\n",
        "with torch.no_grad():\n",
        "    y_pred_probs = model(X_test_tensor).numpy()\n",
        "    y_pred_labels = (y_pred_probs > 0.5).astype(int)"
      ],
      "metadata": {
        "id": "1iXdUYBjgPMB"
      },
      "execution_count": null,
      "outputs": []
    },
    {
      "cell_type": "code",
      "source": [
        "# Flatten arrays\n",
        "y_true = y_test_tensor.numpy().flatten()\n",
        "y_pred = y_pred_labels.flatten()\n",
        "y_proba = y_pred_probs.flatten()"
      ],
      "metadata": {
        "id": "Ar9eBfnBgTcX"
      },
      "execution_count": null,
      "outputs": []
    },
    {
      "cell_type": "code",
      "source": [
        "# Metrics\n",
        "accuracy = accuracy_score(y_true, y_pred)\n",
        "auroc = roc_auc_score(y_true, y_proba)\n",
        "sensitivity = recall_score(y_true, y_pred)\n",
        "cm = confusion_matrix(y_true, y_pred)\n",
        "tn, fp, fn, tp = cm.ravel()\n",
        "specificity = tn / (tn + fp)\n",
        "f1 = f1_score(y_true, y_pred)"
      ],
      "metadata": {
        "id": "mPOU8gSigU88"
      },
      "execution_count": null,
      "outputs": []
    },
    {
      "cell_type": "code",
      "source": [
        "# Print results\n",
        "print(f\"Accuracy:    {accuracy:.4f}\")\n",
        "print(f\"AUROC:       {auroc:.4f}\")\n",
        "print(f\"Sensitivity: {sensitivity:.4f}\")\n",
        "print(f\"Specificity: {specificity:.4f}\")\n",
        "print(f\"F1 Score:    {f1:.4f}\")"
      ],
      "metadata": {
        "colab": {
          "base_uri": "https://localhost:8080/"
        },
        "id": "1S6M1VRngXIQ",
        "outputId": "e7546659-29f4-4647-f889-e9bf302e903a"
      },
      "execution_count": null,
      "outputs": [
        {
          "output_type": "stream",
          "name": "stdout",
          "text": [
            "Accuracy:    0.6863\n",
            "AUROC:       0.6554\n",
            "Sensitivity: 0.5600\n",
            "Specificity: 0.8077\n",
            "F1 Score:    0.6364\n"
          ]
        }
      ]
    },
    {
      "cell_type": "markdown",
      "source": [
        "## A CSV file for each dataset containing the predicted class probabilities (one column per class, plus an ID column).\n"
      ],
      "metadata": {
        "id": "GG9lBSxml4Be"
      }
    },
    {
      "cell_type": "code",
      "source": [
        "# Predict on original test set\n",
        "model.eval()\n",
        "with torch.no_grad():\n",
        "    prob_class_1_test = model(X_test_tensor).squeeze().numpy()\n",
        "    prob_class_0_test = 1 - prob_class_1_test\n",
        "\n",
        "# Use existing ID column or create one\n",
        "if 'ID' in test_df.columns:\n",
        "    ids_test = test_df['ID']\n",
        "else:\n",
        "    ids_test = pd.Series(range(1, len(test_df) + 1), name=\"ID\")\n",
        "\n",
        "# Create DataFrame\n",
        "test_results_df = pd.DataFrame({\n",
        "    \"ID\": ids_test,\n",
        "    \"class_0\": prob_class_0_test,\n",
        "    \"class_1\": prob_class_1_test\n",
        "})\n",
        "\n",
        "# Save to CSV\n",
        "test_results_df.to_csv(\"test_predictions.csv\", index=False)\n",
        "print(\"Saved: test_predictions.csv\")"
      ],
      "metadata": {
        "colab": {
          "base_uri": "https://localhost:8080/"
        },
        "id": "Tff8vVzckr5h",
        "outputId": "7751beee-2f64-4298-98dd-bc1b357ce74d"
      },
      "execution_count": null,
      "outputs": [
        {
          "output_type": "stream",
          "name": "stdout",
          "text": [
            "Saved: test_predictions.csv\n"
          ]
        }
      ]
    },
    {
      "cell_type": "code",
      "source": [
        "# Predict on original train set\n",
        "model.eval()\n",
        "with torch.no_grad():\n",
        "    prob_class_1_train = model(X_train_tensor).squeeze().numpy()\n",
        "    prob_class_0_train = 1 - prob_class_1_train\n",
        "\n",
        "# Use existing ID column or create one\n",
        "if 'ID' in train_df.columns:\n",
        "    ids_train = train_df['ID']\n",
        "else:\n",
        "    ids_train = pd.Series(range(1, len(train_df) + 1), name=\"ID\")\n",
        "\n",
        "# Create DataFrame\n",
        "train_results_df = pd.DataFrame({\n",
        "    \"ID\": ids_train,\n",
        "    \"class_0\": prob_class_0_train,\n",
        "    \"class_1\": prob_class_1_train\n",
        "})\n",
        "\n",
        "# Save to CSV\n",
        "train_results_df.to_csv(\"train_predictions.csv\", index=False)\n",
        "print(\"Saved: train_predictions.csv\")"
      ],
      "metadata": {
        "colab": {
          "base_uri": "https://localhost:8080/"
        },
        "id": "ieLknaE-k-aF",
        "outputId": "b213af3a-06cd-4b06-be66-9dbdcf4ff384"
      },
      "execution_count": null,
      "outputs": [
        {
          "output_type": "stream",
          "name": "stdout",
          "text": [
            "Saved: train_predictions.csv\n"
          ]
        }
      ]
    },
    {
      "cell_type": "code",
      "source": [
        "blinded_test_df.head()"
      ],
      "metadata": {
        "colab": {
          "base_uri": "https://localhost:8080/",
          "height": 255
        },
        "id": "otD_bfL8gYys",
        "outputId": "b968d924-79b7-49a4-d64c-b6a02f82f3b5"
      },
      "execution_count": null,
      "outputs": [
        {
          "output_type": "execute_result",
          "data": {
            "text/plain": [
              "      Feature_1  Feature_2     Feature_3  Feature_4  Feature_5  Feature_6  \\\n",
              "0  13249.250000    13323.0   5322.087891   0.401690   0.019253   0.131701   \n",
              "1  60593.666667    60804.0  21327.521484   0.351976   0.010976   0.042804   \n",
              "2  51978.833333    52193.0  19574.339844   0.376583   0.010708   0.040742   \n",
              "3  47737.416667    47943.0  17247.173828   0.361293   0.011891   0.050236   \n",
              "4  33029.458333    33261.0  15901.136719   0.481423   0.009294   0.030688   \n",
              "\n",
              "   Feature_7  Feature_8  Feature_9  Feature_10  ...  Feature_3229  \\\n",
              "0   1.965488   0.508780   0.965488    7.621183  ...    453.349939   \n",
              "1   2.858719   0.349807   1.858719   38.462982  ...    492.250478   \n",
              "2   2.906154   0.344097   1.906154   25.820516  ...    482.387417   \n",
              "3   2.710158   0.368982   1.710158   62.531559  ...    475.620243   \n",
              "4   3.194060   0.313081   2.194060   11.310782  ...    417.949466   \n",
              "\n",
              "   Feature_3230  Feature_3231  Feature_3232  Feature_3233  Feature_3234  \\\n",
              "0    453.349939        1646.0           1.0    162.029162      0.098438   \n",
              "1    492.250478        7853.0           1.0    961.759455      0.122470   \n",
              "2    482.387417        6644.0           1.0    763.046057      0.114847   \n",
              "3    475.620243        6017.0           1.0    718.741732      0.119452   \n",
              "4    417.949466        4116.0           1.0    314.568513      0.076426   \n",
              "\n",
              "   Feature_3235  Feature_3236  Feature_3237  Feature_3238  \n",
              "0           0.0     30.580378      3.888605      0.098438  \n",
              "1           0.0     26.690038      3.695084      0.122470  \n",
              "2           0.0     30.037774      3.804517      0.114847  \n",
              "3           0.0     27.964103      3.699860      0.119452  \n",
              "4           0.0     31.802140      4.078748      0.076426  \n",
              "\n",
              "[5 rows x 3238 columns]"
            ],
            "text/html": [
              "\n",
              "  <div id=\"df-628ef6e9-0782-46ef-90d5-f741bce98a0d\" class=\"colab-df-container\">\n",
              "    <div>\n",
              "<style scoped>\n",
              "    .dataframe tbody tr th:only-of-type {\n",
              "        vertical-align: middle;\n",
              "    }\n",
              "\n",
              "    .dataframe tbody tr th {\n",
              "        vertical-align: top;\n",
              "    }\n",
              "\n",
              "    .dataframe thead th {\n",
              "        text-align: right;\n",
              "    }\n",
              "</style>\n",
              "<table border=\"1\" class=\"dataframe\">\n",
              "  <thead>\n",
              "    <tr style=\"text-align: right;\">\n",
              "      <th></th>\n",
              "      <th>Feature_1</th>\n",
              "      <th>Feature_2</th>\n",
              "      <th>Feature_3</th>\n",
              "      <th>Feature_4</th>\n",
              "      <th>Feature_5</th>\n",
              "      <th>Feature_6</th>\n",
              "      <th>Feature_7</th>\n",
              "      <th>Feature_8</th>\n",
              "      <th>Feature_9</th>\n",
              "      <th>Feature_10</th>\n",
              "      <th>...</th>\n",
              "      <th>Feature_3229</th>\n",
              "      <th>Feature_3230</th>\n",
              "      <th>Feature_3231</th>\n",
              "      <th>Feature_3232</th>\n",
              "      <th>Feature_3233</th>\n",
              "      <th>Feature_3234</th>\n",
              "      <th>Feature_3235</th>\n",
              "      <th>Feature_3236</th>\n",
              "      <th>Feature_3237</th>\n",
              "      <th>Feature_3238</th>\n",
              "    </tr>\n",
              "  </thead>\n",
              "  <tbody>\n",
              "    <tr>\n",
              "      <th>0</th>\n",
              "      <td>13249.250000</td>\n",
              "      <td>13323.0</td>\n",
              "      <td>5322.087891</td>\n",
              "      <td>0.401690</td>\n",
              "      <td>0.019253</td>\n",
              "      <td>0.131701</td>\n",
              "      <td>1.965488</td>\n",
              "      <td>0.508780</td>\n",
              "      <td>0.965488</td>\n",
              "      <td>7.621183</td>\n",
              "      <td>...</td>\n",
              "      <td>453.349939</td>\n",
              "      <td>453.349939</td>\n",
              "      <td>1646.0</td>\n",
              "      <td>1.0</td>\n",
              "      <td>162.029162</td>\n",
              "      <td>0.098438</td>\n",
              "      <td>0.0</td>\n",
              "      <td>30.580378</td>\n",
              "      <td>3.888605</td>\n",
              "      <td>0.098438</td>\n",
              "    </tr>\n",
              "    <tr>\n",
              "      <th>1</th>\n",
              "      <td>60593.666667</td>\n",
              "      <td>60804.0</td>\n",
              "      <td>21327.521484</td>\n",
              "      <td>0.351976</td>\n",
              "      <td>0.010976</td>\n",
              "      <td>0.042804</td>\n",
              "      <td>2.858719</td>\n",
              "      <td>0.349807</td>\n",
              "      <td>1.858719</td>\n",
              "      <td>38.462982</td>\n",
              "      <td>...</td>\n",
              "      <td>492.250478</td>\n",
              "      <td>492.250478</td>\n",
              "      <td>7853.0</td>\n",
              "      <td>1.0</td>\n",
              "      <td>961.759455</td>\n",
              "      <td>0.122470</td>\n",
              "      <td>0.0</td>\n",
              "      <td>26.690038</td>\n",
              "      <td>3.695084</td>\n",
              "      <td>0.122470</td>\n",
              "    </tr>\n",
              "    <tr>\n",
              "      <th>2</th>\n",
              "      <td>51978.833333</td>\n",
              "      <td>52193.0</td>\n",
              "      <td>19574.339844</td>\n",
              "      <td>0.376583</td>\n",
              "      <td>0.010708</td>\n",
              "      <td>0.040742</td>\n",
              "      <td>2.906154</td>\n",
              "      <td>0.344097</td>\n",
              "      <td>1.906154</td>\n",
              "      <td>25.820516</td>\n",
              "      <td>...</td>\n",
              "      <td>482.387417</td>\n",
              "      <td>482.387417</td>\n",
              "      <td>6644.0</td>\n",
              "      <td>1.0</td>\n",
              "      <td>763.046057</td>\n",
              "      <td>0.114847</td>\n",
              "      <td>0.0</td>\n",
              "      <td>30.037774</td>\n",
              "      <td>3.804517</td>\n",
              "      <td>0.114847</td>\n",
              "    </tr>\n",
              "    <tr>\n",
              "      <th>3</th>\n",
              "      <td>47737.416667</td>\n",
              "      <td>47943.0</td>\n",
              "      <td>17247.173828</td>\n",
              "      <td>0.361293</td>\n",
              "      <td>0.011891</td>\n",
              "      <td>0.050236</td>\n",
              "      <td>2.710158</td>\n",
              "      <td>0.368982</td>\n",
              "      <td>1.710158</td>\n",
              "      <td>62.531559</td>\n",
              "      <td>...</td>\n",
              "      <td>475.620243</td>\n",
              "      <td>475.620243</td>\n",
              "      <td>6017.0</td>\n",
              "      <td>1.0</td>\n",
              "      <td>718.741732</td>\n",
              "      <td>0.119452</td>\n",
              "      <td>0.0</td>\n",
              "      <td>27.964103</td>\n",
              "      <td>3.699860</td>\n",
              "      <td>0.119452</td>\n",
              "    </tr>\n",
              "    <tr>\n",
              "      <th>4</th>\n",
              "      <td>33029.458333</td>\n",
              "      <td>33261.0</td>\n",
              "      <td>15901.136719</td>\n",
              "      <td>0.481423</td>\n",
              "      <td>0.009294</td>\n",
              "      <td>0.030688</td>\n",
              "      <td>3.194060</td>\n",
              "      <td>0.313081</td>\n",
              "      <td>2.194060</td>\n",
              "      <td>11.310782</td>\n",
              "      <td>...</td>\n",
              "      <td>417.949466</td>\n",
              "      <td>417.949466</td>\n",
              "      <td>4116.0</td>\n",
              "      <td>1.0</td>\n",
              "      <td>314.568513</td>\n",
              "      <td>0.076426</td>\n",
              "      <td>0.0</td>\n",
              "      <td>31.802140</td>\n",
              "      <td>4.078748</td>\n",
              "      <td>0.076426</td>\n",
              "    </tr>\n",
              "  </tbody>\n",
              "</table>\n",
              "<p>5 rows × 3238 columns</p>\n",
              "</div>\n",
              "    <div class=\"colab-df-buttons\">\n",
              "\n",
              "  <div class=\"colab-df-container\">\n",
              "    <button class=\"colab-df-convert\" onclick=\"convertToInteractive('df-628ef6e9-0782-46ef-90d5-f741bce98a0d')\"\n",
              "            title=\"Convert this dataframe to an interactive table.\"\n",
              "            style=\"display:none;\">\n",
              "\n",
              "  <svg xmlns=\"http://www.w3.org/2000/svg\" height=\"24px\" viewBox=\"0 -960 960 960\">\n",
              "    <path d=\"M120-120v-720h720v720H120Zm60-500h600v-160H180v160Zm220 220h160v-160H400v160Zm0 220h160v-160H400v160ZM180-400h160v-160H180v160Zm440 0h160v-160H620v160ZM180-180h160v-160H180v160Zm440 0h160v-160H620v160Z\"/>\n",
              "  </svg>\n",
              "    </button>\n",
              "\n",
              "  <style>\n",
              "    .colab-df-container {\n",
              "      display:flex;\n",
              "      gap: 12px;\n",
              "    }\n",
              "\n",
              "    .colab-df-convert {\n",
              "      background-color: #E8F0FE;\n",
              "      border: none;\n",
              "      border-radius: 50%;\n",
              "      cursor: pointer;\n",
              "      display: none;\n",
              "      fill: #1967D2;\n",
              "      height: 32px;\n",
              "      padding: 0 0 0 0;\n",
              "      width: 32px;\n",
              "    }\n",
              "\n",
              "    .colab-df-convert:hover {\n",
              "      background-color: #E2EBFA;\n",
              "      box-shadow: 0px 1px 2px rgba(60, 64, 67, 0.3), 0px 1px 3px 1px rgba(60, 64, 67, 0.15);\n",
              "      fill: #174EA6;\n",
              "    }\n",
              "\n",
              "    .colab-df-buttons div {\n",
              "      margin-bottom: 4px;\n",
              "    }\n",
              "\n",
              "    [theme=dark] .colab-df-convert {\n",
              "      background-color: #3B4455;\n",
              "      fill: #D2E3FC;\n",
              "    }\n",
              "\n",
              "    [theme=dark] .colab-df-convert:hover {\n",
              "      background-color: #434B5C;\n",
              "      box-shadow: 0px 1px 3px 1px rgba(0, 0, 0, 0.15);\n",
              "      filter: drop-shadow(0px 1px 2px rgba(0, 0, 0, 0.3));\n",
              "      fill: #FFFFFF;\n",
              "    }\n",
              "  </style>\n",
              "\n",
              "    <script>\n",
              "      const buttonEl =\n",
              "        document.querySelector('#df-628ef6e9-0782-46ef-90d5-f741bce98a0d button.colab-df-convert');\n",
              "      buttonEl.style.display =\n",
              "        google.colab.kernel.accessAllowed ? 'block' : 'none';\n",
              "\n",
              "      async function convertToInteractive(key) {\n",
              "        const element = document.querySelector('#df-628ef6e9-0782-46ef-90d5-f741bce98a0d');\n",
              "        const dataTable =\n",
              "          await google.colab.kernel.invokeFunction('convertToInteractive',\n",
              "                                                    [key], {});\n",
              "        if (!dataTable) return;\n",
              "\n",
              "        const docLinkHtml = 'Like what you see? Visit the ' +\n",
              "          '<a target=\"_blank\" href=https://colab.research.google.com/notebooks/data_table.ipynb>data table notebook</a>'\n",
              "          + ' to learn more about interactive tables.';\n",
              "        element.innerHTML = '';\n",
              "        dataTable['output_type'] = 'display_data';\n",
              "        await google.colab.output.renderOutput(dataTable, element);\n",
              "        const docLink = document.createElement('div');\n",
              "        docLink.innerHTML = docLinkHtml;\n",
              "        element.appendChild(docLink);\n",
              "      }\n",
              "    </script>\n",
              "  </div>\n",
              "\n",
              "\n",
              "    <div id=\"df-9cf7fc6e-2c93-41a0-b43f-50514b57c282\">\n",
              "      <button class=\"colab-df-quickchart\" onclick=\"quickchart('df-9cf7fc6e-2c93-41a0-b43f-50514b57c282')\"\n",
              "                title=\"Suggest charts\"\n",
              "                style=\"display:none;\">\n",
              "\n",
              "<svg xmlns=\"http://www.w3.org/2000/svg\" height=\"24px\"viewBox=\"0 0 24 24\"\n",
              "     width=\"24px\">\n",
              "    <g>\n",
              "        <path d=\"M19 3H5c-1.1 0-2 .9-2 2v14c0 1.1.9 2 2 2h14c1.1 0 2-.9 2-2V5c0-1.1-.9-2-2-2zM9 17H7v-7h2v7zm4 0h-2V7h2v10zm4 0h-2v-4h2v4z\"/>\n",
              "    </g>\n",
              "</svg>\n",
              "      </button>\n",
              "\n",
              "<style>\n",
              "  .colab-df-quickchart {\n",
              "      --bg-color: #E8F0FE;\n",
              "      --fill-color: #1967D2;\n",
              "      --hover-bg-color: #E2EBFA;\n",
              "      --hover-fill-color: #174EA6;\n",
              "      --disabled-fill-color: #AAA;\n",
              "      --disabled-bg-color: #DDD;\n",
              "  }\n",
              "\n",
              "  [theme=dark] .colab-df-quickchart {\n",
              "      --bg-color: #3B4455;\n",
              "      --fill-color: #D2E3FC;\n",
              "      --hover-bg-color: #434B5C;\n",
              "      --hover-fill-color: #FFFFFF;\n",
              "      --disabled-bg-color: #3B4455;\n",
              "      --disabled-fill-color: #666;\n",
              "  }\n",
              "\n",
              "  .colab-df-quickchart {\n",
              "    background-color: var(--bg-color);\n",
              "    border: none;\n",
              "    border-radius: 50%;\n",
              "    cursor: pointer;\n",
              "    display: none;\n",
              "    fill: var(--fill-color);\n",
              "    height: 32px;\n",
              "    padding: 0;\n",
              "    width: 32px;\n",
              "  }\n",
              "\n",
              "  .colab-df-quickchart:hover {\n",
              "    background-color: var(--hover-bg-color);\n",
              "    box-shadow: 0 1px 2px rgba(60, 64, 67, 0.3), 0 1px 3px 1px rgba(60, 64, 67, 0.15);\n",
              "    fill: var(--button-hover-fill-color);\n",
              "  }\n",
              "\n",
              "  .colab-df-quickchart-complete:disabled,\n",
              "  .colab-df-quickchart-complete:disabled:hover {\n",
              "    background-color: var(--disabled-bg-color);\n",
              "    fill: var(--disabled-fill-color);\n",
              "    box-shadow: none;\n",
              "  }\n",
              "\n",
              "  .colab-df-spinner {\n",
              "    border: 2px solid var(--fill-color);\n",
              "    border-color: transparent;\n",
              "    border-bottom-color: var(--fill-color);\n",
              "    animation:\n",
              "      spin 1s steps(1) infinite;\n",
              "  }\n",
              "\n",
              "  @keyframes spin {\n",
              "    0% {\n",
              "      border-color: transparent;\n",
              "      border-bottom-color: var(--fill-color);\n",
              "      border-left-color: var(--fill-color);\n",
              "    }\n",
              "    20% {\n",
              "      border-color: transparent;\n",
              "      border-left-color: var(--fill-color);\n",
              "      border-top-color: var(--fill-color);\n",
              "    }\n",
              "    30% {\n",
              "      border-color: transparent;\n",
              "      border-left-color: var(--fill-color);\n",
              "      border-top-color: var(--fill-color);\n",
              "      border-right-color: var(--fill-color);\n",
              "    }\n",
              "    40% {\n",
              "      border-color: transparent;\n",
              "      border-right-color: var(--fill-color);\n",
              "      border-top-color: var(--fill-color);\n",
              "    }\n",
              "    60% {\n",
              "      border-color: transparent;\n",
              "      border-right-color: var(--fill-color);\n",
              "    }\n",
              "    80% {\n",
              "      border-color: transparent;\n",
              "      border-right-color: var(--fill-color);\n",
              "      border-bottom-color: var(--fill-color);\n",
              "    }\n",
              "    90% {\n",
              "      border-color: transparent;\n",
              "      border-bottom-color: var(--fill-color);\n",
              "    }\n",
              "  }\n",
              "</style>\n",
              "\n",
              "      <script>\n",
              "        async function quickchart(key) {\n",
              "          const quickchartButtonEl =\n",
              "            document.querySelector('#' + key + ' button');\n",
              "          quickchartButtonEl.disabled = true;  // To prevent multiple clicks.\n",
              "          quickchartButtonEl.classList.add('colab-df-spinner');\n",
              "          try {\n",
              "            const charts = await google.colab.kernel.invokeFunction(\n",
              "                'suggestCharts', [key], {});\n",
              "          } catch (error) {\n",
              "            console.error('Error during call to suggestCharts:', error);\n",
              "          }\n",
              "          quickchartButtonEl.classList.remove('colab-df-spinner');\n",
              "          quickchartButtonEl.classList.add('colab-df-quickchart-complete');\n",
              "        }\n",
              "        (() => {\n",
              "          let quickchartButtonEl =\n",
              "            document.querySelector('#df-9cf7fc6e-2c93-41a0-b43f-50514b57c282 button');\n",
              "          quickchartButtonEl.style.display =\n",
              "            google.colab.kernel.accessAllowed ? 'block' : 'none';\n",
              "        })();\n",
              "      </script>\n",
              "    </div>\n",
              "\n",
              "    </div>\n",
              "  </div>\n"
            ],
            "application/vnd.google.colaboratory.intrinsic+json": {
              "type": "dataframe",
              "variable_name": "blinded_test_df"
            }
          },
          "metadata": {},
          "execution_count": 151
        }
      ]
    },
    {
      "cell_type": "code",
      "source": [
        "# One-hot encode and align columns\n",
        "blinded_df_encoded = pd.get_dummies(blinded_test_df)\n",
        "\n",
        "\n",
        "# Scale using the same scaler used for X_train\n",
        "blinded_scaled = scaler.transform(blinded_df_encoded)\n",
        "\n",
        "# Convert to tensor\n",
        "blinded_tensor = torch.tensor(blinded_scaled, dtype=torch.float32)"
      ],
      "metadata": {
        "id": "4OVey4g-h3Tr"
      },
      "execution_count": null,
      "outputs": []
    },
    {
      "cell_type": "code",
      "source": [
        "model.eval()\n",
        "with torch.no_grad():\n",
        "    predicted_probs = model(blinded_tensor)\n",
        "    predicted_classes = (predicted_probs > 0.5).int()  # Binary classification\n"
      ],
      "metadata": {
        "id": "8CAq2yffjHnU"
      },
      "execution_count": null,
      "outputs": []
    },
    {
      "cell_type": "code",
      "source": [
        "# Flatten and display\n",
        "print(\"Predicted CLASS labels:\")\n",
        "print(predicted_classes.squeeze().numpy())\n"
      ],
      "metadata": {
        "colab": {
          "base_uri": "https://localhost:8080/"
        },
        "id": "-PGSJaDGjIge",
        "outputId": "8c5872c2-dcac-4fc4-b79f-2a8a068fcb3f"
      },
      "execution_count": null,
      "outputs": [
        {
          "output_type": "stream",
          "name": "stdout",
          "text": [
            "Predicted CLASS labels:\n",
            "[0 0 0 1 0 0 0 0 1 0 0 0 0 0 0 0 1 1 0 1 0 0 0 1 0 0 0 0 1 0 0 0 1 0 0 0]\n"
          ]
        }
      ]
    },
    {
      "cell_type": "code",
      "source": [
        "model.eval()\n",
        "with torch.no_grad():\n",
        "    # Get class 1 probabilities\n",
        "    prob_class_1 = model(blinded_tensor).squeeze().numpy()\n",
        "    prob_class_0 = 1 - prob_class_1  # Since binary, class 0 prob is complement\n"
      ],
      "metadata": {
        "id": "yIyZPCZgjKE6"
      },
      "execution_count": null,
      "outputs": []
    },
    {
      "cell_type": "code",
      "source": [
        "# Use existing ID column if available, or create one\n",
        "if 'ID' in blinded_test_df.columns:\n",
        "    ids = blinded_test_df['ID']\n",
        "else:\n",
        "    ids = pd.Series(range(1, len(blinded_test_df) + 1), name=\"ID\")\n",
        "\n",
        "# Create DataFrame with class probabilities\n",
        "results_df = pd.DataFrame({\n",
        "    \"ID\": ids,\n",
        "    \"class_0\": prob_class_0,\n",
        "    \"class_1\": prob_class_1\n",
        "})"
      ],
      "metadata": {
        "id": "dtjz0Mo9jwGg"
      },
      "execution_count": null,
      "outputs": []
    },
    {
      "cell_type": "code",
      "source": [
        "results_df.to_csv(\"blinded_predictions.csv\", index=False)\n",
        "print(\"Saved predictions to blinded_predictions.csv\")\n"
      ],
      "metadata": {
        "colab": {
          "base_uri": "https://localhost:8080/"
        },
        "id": "_H0spwWsjx5I",
        "outputId": "e2656e02-51a3-4650-eb14-c0b61af3b605"
      },
      "execution_count": null,
      "outputs": [
        {
          "output_type": "stream",
          "name": "stdout",
          "text": [
            "Saved predictions to blinded_predictions.csv\n"
          ]
        }
      ]
    }
  ]
}