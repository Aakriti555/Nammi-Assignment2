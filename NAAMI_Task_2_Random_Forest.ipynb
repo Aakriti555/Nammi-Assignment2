{
  "nbformat": 4,
  "nbformat_minor": 0,
  "metadata": {
    "colab": {
      "provenance": []
    },
    "kernelspec": {
      "name": "python3",
      "display_name": "Python 3"
    },
    "language_info": {
      "name": "python"
    }
  },
  "cells": [
    {
      "cell_type": "code",
      "execution_count": 36,
      "metadata": {
        "id": "ovW4yZmpmNqf"
      },
      "outputs": [],
      "source": [
        "import pandas as pd\n",
        "import numpy as np\n",
        "from sklearn.ensemble import RandomForestClassifier\n",
        "from sklearn.preprocessing import StandardScaler\n",
        "from sklearn.model_selection import train_test_split\n",
        "from sklearn.model_selection import StratifiedKFold\n",
        "from sklearn.metrics import accuracy_score, roc_auc_score, recall_score, f1_score, confusion_matrix\n",
        "import numpy as np"
      ]
    },
    {
      "cell_type": "code",
      "source": [
        "import gdown\n",
        "gdown.download(url=\"https://drive.google.com/file/d/1Zsg7ZiTWcpvm9IZl72z0DnOiNFu4QgGo/view\", output=\"file.zip\", fuzzy=True)"
      ],
      "metadata": {
        "colab": {
          "base_uri": "https://localhost:8080/",
          "height": 105
        },
        "id": "MQXrH4E8mXca",
        "outputId": "27e955ec-e4f9-428e-b8a1-5334e22eb7b0"
      },
      "execution_count": 37,
      "outputs": [
        {
          "output_type": "stream",
          "name": "stderr",
          "text": [
            "Downloading...\n",
            "From: https://drive.google.com/uc?id=1Zsg7ZiTWcpvm9IZl72z0DnOiNFu4QgGo\n",
            "To: /content/file.zip\n",
            "100%|██████████| 8.66M/8.66M [00:00<00:00, 67.1MB/s]\n"
          ]
        },
        {
          "output_type": "execute_result",
          "data": {
            "text/plain": [
              "'file.zip'"
            ],
            "application/vnd.google.colaboratory.intrinsic+json": {
              "type": "string"
            }
          },
          "metadata": {},
          "execution_count": 37
        }
      ]
    },
    {
      "cell_type": "code",
      "source": [
        "!unzip \"/content/file.zip\" -d \"/content\""
      ],
      "metadata": {
        "colab": {
          "base_uri": "https://localhost:8080/"
        },
        "id": "-7JvOYvjmxVS",
        "outputId": "90ed9759-97b2-4dd6-ce0b-cb2f466187fc"
      },
      "execution_count": null,
      "outputs": [
        {
          "output_type": "stream",
          "name": "stdout",
          "text": [
            "Archive:  /content/file.zip\n",
            "replace /content/TASK_2/blinded_test_set.csv? [y]es, [n]o, [A]ll, [N]one, [r]ename: "
          ]
        }
      ]
    },
    {
      "cell_type": "code",
      "source": [
        "# Load the CSV files\n",
        "train_df = pd.read_csv(\"/content/TASK_2/train_set.csv\")\n",
        "test_df = pd.read_csv(\"/content/TASK_2/test_set.csv\")\n",
        "blinded_df  = pd.read_csv(\"/content/TASK_2/blinded_test_set.csv\")"
      ],
      "metadata": {
        "id": "eOPQv1GAmzNv"
      },
      "execution_count": null,
      "outputs": []
    },
    {
      "cell_type": "code",
      "source": [
        "# Remove rows with nan\n",
        "\n",
        "train_df.replace([np.inf, -np.inf], np.nan, inplace=True)\n",
        "train_df.dropna(inplace=True)\n",
        "test_df.replace([np.inf, -np.inf], np.nan, inplace=True)\n",
        "test_df.dropna(inplace=True)"
      ],
      "metadata": {
        "id": "bjz5NPnfngUh"
      },
      "execution_count": null,
      "outputs": []
    },
    {
      "cell_type": "code",
      "source": [
        "# 2. Preprocessing function (encoding + scaling)\n",
        "def preprocess_data(df, fit_scaler=None, fit_encoder=None):\n",
        "    # Example: get_dummies for categorical encoding (adapt if needed)\n",
        "    df_encoded = pd.get_dummies(df.drop(columns=['CLASS'], errors='ignore'))\n",
        "\n",
        "    # Align columns with train features if needed\n",
        "    if fit_encoder is not None:\n",
        "        df_encoded = df_encoded.reindex(columns=fit_encoder, fill_value=0)\n",
        "    else:\n",
        "        fit_encoder = df_encoded.columns\n",
        "\n",
        "    # Scale numeric features\n",
        "    scaler = fit_scaler or StandardScaler()\n",
        "    df_scaled = scaler.fit_transform(df_encoded) if fit_scaler is None else scaler.transform(df_encoded)\n",
        "\n",
        "    return df_scaled, scaler, fit_encoder"
      ],
      "metadata": {
        "id": "Oltg8KPHm_1c"
      },
      "execution_count": null,
      "outputs": []
    },
    {
      "cell_type": "code",
      "source": [
        "# 3. Prepare training data\n",
        "X_train, scaler, encoder = preprocess_data(train_df)\n",
        "y_train = train_df['CLASS'].values\n"
      ],
      "metadata": {
        "id": "hx7m_7lBm3DV"
      },
      "execution_count": null,
      "outputs": []
    },
    {
      "cell_type": "code",
      "source": [
        "# 4. Prepare test data (apply same scaler & encoder)\n",
        "X_test_encoded = pd.get_dummies(test_df.drop(columns=['CLASS'], errors='ignore'))\n",
        "X_test_encoded = X_test_encoded.reindex(columns=encoder, fill_value=0)\n",
        "X_test = scaler.transform(X_test_encoded)\n",
        "y_test = test_df['CLASS'].values"
      ],
      "metadata": {
        "id": "tfwFI1CFna_X"
      },
      "execution_count": null,
      "outputs": []
    },
    {
      "cell_type": "code",
      "source": [
        "# 5. Train Random Forest\n",
        "rf = RandomForestClassifier(n_estimators=100, random_state=42, class_weight='balanced')\n",
        "rf.fit(X_train, y_train)"
      ],
      "metadata": {
        "id": "e-dwQIEOnl5b"
      },
      "execution_count": null,
      "outputs": []
    },
    {
      "cell_type": "code",
      "source": [
        "# 6. Evaluate on test set\n",
        "y_pred = rf.predict(X_test)\n",
        "y_pred_proba = rf.predict_proba(X_test)[:, 1]\n",
        "\n",
        "# Evaluate on train set\n",
        "x_pred = rf.predict(X_train)\n",
        "x_pred_proba = rf.predict_proba(X_train)[:, 1]"
      ],
      "metadata": {
        "id": "UTbIggYOn4a9"
      },
      "execution_count": null,
      "outputs": []
    },
    {
      "cell_type": "code",
      "source": [
        "accuracy = accuracy_score(y_test, y_pred)\n",
        "auroc = roc_auc_score(y_test, y_pred_proba)\n",
        "sensitivity = recall_score(y_test, y_pred)\n",
        "cm = confusion_matrix(y_test, y_pred)\n",
        "tn, fp, fn, tp = cm.ravel()\n",
        "specificity = tn / (tn + fp)\n",
        "f1 = f1_score(y_test, y_pred)"
      ],
      "metadata": {
        "id": "TMZ1GXQsn7p7"
      },
      "execution_count": null,
      "outputs": []
    },
    {
      "cell_type": "code",
      "source": [
        "print(f\"Accuracy:    {accuracy:.4f}\")\n",
        "print(f\"AUROC:       {auroc:.4f}\")\n",
        "print(f\"Sensitivity: {sensitivity:.4f}\")\n",
        "print(f\"Specificity: {specificity:.4f}\")\n",
        "print(f\"F1 Score:    {f1:.4f}\")\n"
      ],
      "metadata": {
        "id": "rrongDXvn9XH"
      },
      "execution_count": null,
      "outputs": []
    },
    {
      "cell_type": "code",
      "source": [
        "# Set up cross-validation\n",
        "skf = StratifiedKFold(n_splits=5, shuffle=True, random_state=42)"
      ],
      "metadata": {
        "id": "L5DyKtCjqEhr"
      },
      "execution_count": null,
      "outputs": []
    },
    {
      "cell_type": "code",
      "source": [
        "# Lists to store scores\n",
        "accuracy_list = []\n",
        "auroc_list = []\n",
        "sensitivity_list = []\n",
        "specificity_list = []\n",
        "f1_list = []"
      ],
      "metadata": {
        "id": "MZW-VzxZqGyn"
      },
      "execution_count": null,
      "outputs": []
    },
    {
      "cell_type": "code",
      "source": [
        "# Loop through folds\n",
        "for train_idx, val_idx in skf.split(X_train, y_train):\n",
        "    X_fold_train, X_fold_val = X_train[train_idx], X_train[val_idx]\n",
        "    y_fold_train, y_fold_val = y_train[train_idx], y_train[val_idx]\n",
        "\n",
        "    # Train Random Forest on current fold\n",
        "    rf_cv = RandomForestClassifier(n_estimators=100, random_state=42, class_weight='balanced')\n",
        "    rf_cv.fit(X_fold_train, y_fold_train)\n",
        "\n",
        "    # Predict on validation fold\n",
        "    y_val_pred = rf_cv.predict(X_fold_val)\n",
        "    y_val_proba = rf_cv.predict_proba(X_fold_val)[:, 1]\n",
        "\n",
        "    # Metrics\n",
        "    acc = accuracy_score(y_fold_val, y_val_pred)\n",
        "    auc = roc_auc_score(y_fold_val, y_val_proba)\n",
        "    rec = recall_score(y_fold_val, y_val_pred)\n",
        "    cm = confusion_matrix(y_fold_val, y_val_pred)\n",
        "    tn, fp, fn, tp = cm.ravel()\n",
        "    spec = tn / (tn + fp)\n",
        "    f1 = f1_score(y_fold_val, y_val_pred)\n",
        "\n",
        "    # Append scores\n",
        "    accuracy_list.append(acc)\n",
        "    auroc_list.append(auc)\n",
        "    sensitivity_list.append(rec)\n",
        "    specificity_list.append(spec)\n",
        "    f1_list.append(f1)\n"
      ],
      "metadata": {
        "id": "6QMORFK7qJb7"
      },
      "execution_count": null,
      "outputs": []
    },
    {
      "cell_type": "code",
      "source": [
        "# Print average scores\n",
        "print(\"Cross-Validation Results (5-fold):\")\n",
        "print(f\"Avg Accuracy:    {np.mean(accuracy_list):.4f}\")\n",
        "print(f\"Avg AUROC:       {np.mean(auroc_list):.4f}\")\n",
        "print(f\"Avg Sensitivity: {np.mean(sensitivity_list):.4f}\")\n",
        "print(f\"Avg Specificity: {np.mean(specificity_list):.4f}\")\n",
        "print(f\"Avg F1 Score:    {np.mean(f1_list):.4f}\")"
      ],
      "metadata": {
        "id": "h-SR2dLpqM8-"
      },
      "execution_count": null,
      "outputs": []
    },
    {
      "cell_type": "code",
      "source": [
        "# 7. Predict on blinded test set\n",
        "blinded_encoded = pd.get_dummies(blinded_df)\n",
        "blinded_encoded = blinded_encoded.reindex(columns=encoder, fill_value=0)\n",
        "blinded_scaled = scaler.transform(blinded_encoded)\n",
        "blinded_proba = rf.predict_proba(blinded_scaled)"
      ],
      "metadata": {
        "id": "dDMGhxSrn_QZ"
      },
      "execution_count": null,
      "outputs": []
    },
    {
      "cell_type": "code",
      "source": [
        "# 8. Save predictions CSV for test set\n",
        "train_ids = train_df['ID'] if 'ID' in train_df.columns else pd.Series(range(1, len(train_df)+1), name='ID')\n",
        "test_pred_df = pd.DataFrame({\n",
        "    'ID': train_ids,\n",
        "    'class_0': 1 - x_pred_proba,\n",
        "    'class_1': x_pred_proba\n",
        "})\n",
        "test_pred_df.to_csv(\"train_predictions.csv\", index=False)"
      ],
      "metadata": {
        "id": "JtbBfQjmoYdv"
      },
      "execution_count": null,
      "outputs": []
    },
    {
      "cell_type": "code",
      "source": [
        "# 9. Save predictions CSV for test set\n",
        "test_ids = test_df['ID'] if 'ID' in test_df.columns else pd.Series(range(1, len(test_df)+1), name='ID')\n",
        "test_pred_df = pd.DataFrame({\n",
        "    'ID': test_ids,\n",
        "    'class_0': 1 - y_pred_proba,\n",
        "    'class_1': y_pred_proba\n",
        "})\n",
        "test_pred_df.to_csv(\"test_predictions.csv\", index=False)"
      ],
      "metadata": {
        "id": "cWNohqmcoHbh"
      },
      "execution_count": null,
      "outputs": []
    },
    {
      "cell_type": "code",
      "source": [
        "# 10. Save predictions CSV for blinded test set\n",
        "blind_ids = blinded_df['ID'] if 'ID' in blinded_df.columns else pd.Series(range(1, len(blinded_df)+1), name='ID')\n",
        "blinded_pred_df = pd.DataFrame({\n",
        "    'ID': blind_ids,\n",
        "    'class_0': blinded_proba[:, 0],\n",
        "    'class_1': blinded_proba[:, 1]\n",
        "})\n",
        "blinded_pred_df.to_csv(\"blinded_predictions.csv\", index=False)"
      ],
      "metadata": {
        "id": "E5vq4aaeoXio"
      },
      "execution_count": null,
      "outputs": []
    }
  ]
}